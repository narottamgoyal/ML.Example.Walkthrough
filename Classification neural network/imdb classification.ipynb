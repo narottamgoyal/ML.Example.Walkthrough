{
 "cells": [
  {
   "cell_type": "code",
   "execution_count": 1,
   "metadata": {},
   "outputs": [],
   "source": [
    "import tensorflow as ts\n",
    "from tensorflow import keras\n",
    "import numpy as np"
   ]
  },
  {
   "cell_type": "code",
   "execution_count": 2,
   "metadata": {},
   "outputs": [],
   "source": [
    "data = keras.datasets.imdb"
   ]
  },
  {
   "cell_type": "code",
   "execution_count": 6,
   "metadata": {},
   "outputs": [],
   "source": [
    "(train_data, train_labels), (test_data, test_labels) = data.load_data(num_words=10000)\n"
   ]
  },
  {
   "cell_type": "code",
   "execution_count": 32,
   "metadata": {},
   "outputs": [
    {
     "data": {
      "text/plain": [
       "array([[   1,   14,   22, ...,    0,    0,    0],\n",
       "       [   1,  194, 1153, ...,    0,    0,    0],\n",
       "       [   1,   14,   47, ...,    0,    0,    0],\n",
       "       ...,\n",
       "       [   1,   11,    6, ...,    0,    0,    0],\n",
       "       [   1, 1446, 7079, ...,    0,    0,    0],\n",
       "       [   1,   17,    6, ...,    0,    0,    0]])"
      ]
     },
     "execution_count": 32,
     "metadata": {},
     "output_type": "execute_result"
    }
   ],
   "source": [
    "train_data"
   ]
  },
  {
   "cell_type": "code",
   "execution_count": 7,
   "metadata": {},
   "outputs": [],
   "source": [
    "word_index = data.get_word_index()"
   ]
  },
  {
   "cell_type": "code",
   "execution_count": 8,
   "metadata": {},
   "outputs": [],
   "source": [
    "word_index = {k:(v+3) for k, v in word_index.items()}"
   ]
  },
  {
   "cell_type": "code",
   "execution_count": 9,
   "metadata": {},
   "outputs": [],
   "source": [
    "word_index[\"<PAD>\"] = 0\n",
    "word_index[\"<START>\"] = 1\n",
    "word_index[\"<UNK>\"] = 2\n",
    "word_index[\"<UNUSED>\"] = 3"
   ]
  },
  {
   "cell_type": "code",
   "execution_count": 10,
   "metadata": {},
   "outputs": [],
   "source": [
    "reverse_word_index  = dict([(value, key) for (key, value) in word_index.items()])"
   ]
  },
  {
   "cell_type": "code",
   "execution_count": 11,
   "metadata": {},
   "outputs": [],
   "source": [
    "train_data = keras.preprocessing.sequence.pad_sequences(train_data, value=word_index[\"<PAD>\"], padding=\"post\", maxlen=250)\n",
    "test_data = keras.preprocessing.sequence.pad_sequences(test_data, value=word_index[\"<PAD>\"], padding=\"post\", maxlen=250)"
   ]
  },
  {
   "cell_type": "code",
   "execution_count": 12,
   "metadata": {},
   "outputs": [],
   "source": [
    "def decode_review(text):\n",
    "    return \" \".join([reverse_word_index.get(i, \"?\") for i in text])"
   ]
  },
  {
   "cell_type": "code",
   "execution_count": 13,
   "metadata": {},
   "outputs": [
    {
     "name": "stdout",
     "output_type": "stream",
     "text": [
      "<START> please give this one a miss br br <UNK> <UNK> and the rest of the cast rendered terrible performances the show is flat flat flat br br i don't know how michael madison could have allowed this one on his plate he almost seemed to know this wasn't going to work out and his performance was quite <UNK> so all you madison fans give this a miss <PAD> <PAD> <PAD> <PAD> <PAD> <PAD> <PAD> <PAD> <PAD> <PAD> <PAD> <PAD> <PAD> <PAD> <PAD> <PAD> <PAD> <PAD> <PAD> <PAD> <PAD> <PAD> <PAD> <PAD> <PAD> <PAD> <PAD> <PAD> <PAD> <PAD> <PAD> <PAD> <PAD> <PAD> <PAD> <PAD> <PAD> <PAD> <PAD> <PAD> <PAD> <PAD> <PAD> <PAD> <PAD> <PAD> <PAD> <PAD> <PAD> <PAD> <PAD> <PAD> <PAD> <PAD> <PAD> <PAD> <PAD> <PAD> <PAD> <PAD> <PAD> <PAD> <PAD> <PAD> <PAD> <PAD> <PAD> <PAD> <PAD> <PAD> <PAD> <PAD> <PAD> <PAD> <PAD> <PAD> <PAD> <PAD> <PAD> <PAD> <PAD> <PAD> <PAD> <PAD> <PAD> <PAD> <PAD> <PAD> <PAD> <PAD> <PAD> <PAD> <PAD> <PAD> <PAD> <PAD> <PAD> <PAD> <PAD> <PAD> <PAD> <PAD> <PAD> <PAD> <PAD> <PAD> <PAD> <PAD> <PAD> <PAD> <PAD> <PAD> <PAD> <PAD> <PAD> <PAD> <PAD> <PAD> <PAD> <PAD> <PAD> <PAD> <PAD> <PAD> <PAD> <PAD> <PAD> <PAD> <PAD> <PAD> <PAD> <PAD> <PAD> <PAD> <PAD> <PAD> <PAD> <PAD> <PAD> <PAD> <PAD> <PAD> <PAD> <PAD> <PAD> <PAD> <PAD> <PAD> <PAD> <PAD> <PAD> <PAD> <PAD> <PAD> <PAD> <PAD> <PAD> <PAD> <PAD> <PAD> <PAD> <PAD> <PAD> <PAD> <PAD> <PAD> <PAD> <PAD> <PAD> <PAD> <PAD> <PAD> <PAD> <PAD> <PAD> <PAD> <PAD> <PAD> <PAD> <PAD> <PAD> <PAD>\n"
     ]
    }
   ],
   "source": [
    "print(decode_review(test_data[0]))"
   ]
  },
  {
   "cell_type": "code",
   "execution_count": 14,
   "metadata": {},
   "outputs": [
    {
     "name": "stdout",
     "output_type": "stream",
     "text": [
      "250 250\n"
     ]
    }
   ],
   "source": [
    "print(len(test_data[0]), len(test_data[1]))"
   ]
  },
  {
   "cell_type": "code",
   "execution_count": 15,
   "metadata": {},
   "outputs": [],
   "source": [
    "model = keras.Sequential()\n",
    "model.add(keras.layers.Embedding(10000,16))\n",
    "model.add(keras.layers.GlobalAveragePooling1D())\n",
    "model.add(keras.layers.Dense(16, activation=\"relu\"))\n",
    "model.add(keras.layers.Dense(1, activation=\"sigmoid\"))"
   ]
  },
  {
   "cell_type": "code",
   "execution_count": 16,
   "metadata": {},
   "outputs": [
    {
     "name": "stdout",
     "output_type": "stream",
     "text": [
      "Model: \"sequential\"\n",
      "_________________________________________________________________\n",
      "Layer (type)                 Output Shape              Param #   \n",
      "=================================================================\n",
      "embedding (Embedding)        (None, None, 16)          160000    \n",
      "_________________________________________________________________\n",
      "global_average_pooling1d (Gl (None, 16)                0         \n",
      "_________________________________________________________________\n",
      "dense (Dense)                (None, 16)                272       \n",
      "_________________________________________________________________\n",
      "dense_1 (Dense)              (None, 1)                 17        \n",
      "=================================================================\n",
      "Total params: 160,289\n",
      "Trainable params: 160,289\n",
      "Non-trainable params: 0\n",
      "_________________________________________________________________\n"
     ]
    }
   ],
   "source": [
    "model.summary()"
   ]
  },
  {
   "cell_type": "code",
   "execution_count": 17,
   "metadata": {},
   "outputs": [],
   "source": [
    "model.compile(optimizer=\"adam\", loss=\"binary_crossentropy\", metrics=[\"accuracy\"])"
   ]
  },
  {
   "cell_type": "code",
   "execution_count": null,
   "metadata": {},
   "outputs": [],
   "source": [
    "import tensorflow as tf\n",
    "physical_devices = tf.config.list_physical_devices('GPU')\n",
    "tf.config.experimental.set_memory_growth(physical_devices[0], True)"
   ]
  },
  {
   "cell_type": "code",
   "execution_count": 22,
   "metadata": {},
   "outputs": [
    {
     "name": "stdout",
     "output_type": "stream",
     "text": [
      "Epoch 1/40\n",
      "30/30 [==============================] - 1s 19ms/step - loss: 0.0092 - accuracy: 0.9993 - val_loss: 0.6225 - val_accuracy: 0.8612\n",
      "Epoch 2/40\n",
      "30/30 [==============================] - 0s 17ms/step - loss: 0.0091 - accuracy: 0.9993 - val_loss: 0.6246 - val_accuracy: 0.8606\n",
      "Epoch 3/40\n",
      "30/30 [==============================] - 0s 17ms/step - loss: 0.0089 - accuracy: 0.9991 - val_loss: 0.6281 - val_accuracy: 0.8613\n",
      "Epoch 4/40\n",
      "30/30 [==============================] - 0s 17ms/step - loss: 0.0087 - accuracy: 0.9993 - val_loss: 0.6302 - val_accuracy: 0.8619\n",
      "Epoch 5/40\n",
      "30/30 [==============================] - 1s 17ms/step - loss: 0.0085 - accuracy: 0.9995 - val_loss: 0.6329 - val_accuracy: 0.8617\n",
      "Epoch 6/40\n",
      "30/30 [==============================] - 1s 17ms/step - loss: 0.0083 - accuracy: 0.9995 - val_loss: 0.6351 - val_accuracy: 0.8608\n",
      "Epoch 7/40\n",
      "30/30 [==============================] - 1s 17ms/step - loss: 0.0082 - accuracy: 0.9995 - val_loss: 0.6376 - val_accuracy: 0.8616\n",
      "Epoch 8/40\n",
      "30/30 [==============================] - 1s 17ms/step - loss: 0.0080 - accuracy: 0.9995 - val_loss: 0.6401 - val_accuracy: 0.8604\n",
      "Epoch 9/40\n",
      "30/30 [==============================] - 1s 17ms/step - loss: 0.0078 - accuracy: 0.9995 - val_loss: 0.6424 - val_accuracy: 0.8608\n",
      "Epoch 10/40\n",
      "30/30 [==============================] - 0s 17ms/step - loss: 0.0077 - accuracy: 0.9995 - val_loss: 0.6455 - val_accuracy: 0.8615\n",
      "Epoch 11/40\n",
      "30/30 [==============================] - 1s 18ms/step - loss: 0.0075 - accuracy: 0.9995 - val_loss: 0.6481 - val_accuracy: 0.8611\n",
      "Epoch 12/40\n",
      "30/30 [==============================] - 1s 18ms/step - loss: 0.0074 - accuracy: 0.9995 - val_loss: 0.6501 - val_accuracy: 0.8611\n",
      "Epoch 13/40\n",
      "30/30 [==============================] - 1s 18ms/step - loss: 0.0072 - accuracy: 0.9996 - val_loss: 0.6527 - val_accuracy: 0.8609\n",
      "Epoch 14/40\n",
      "30/30 [==============================] - 1s 17ms/step - loss: 0.0071 - accuracy: 0.9995 - val_loss: 0.6567 - val_accuracy: 0.8607\n",
      "Epoch 15/40\n",
      "30/30 [==============================] - 1s 17ms/step - loss: 0.0070 - accuracy: 0.9996 - val_loss: 0.6583 - val_accuracy: 0.8613\n",
      "Epoch 16/40\n",
      "30/30 [==============================] - 1s 17ms/step - loss: 0.0068 - accuracy: 0.9997 - val_loss: 0.6617 - val_accuracy: 0.8607\n",
      "Epoch 17/40\n",
      "30/30 [==============================] - 1s 18ms/step - loss: 0.0067 - accuracy: 0.9997 - val_loss: 0.6636 - val_accuracy: 0.8612\n",
      "Epoch 18/40\n",
      "30/30 [==============================] - 1s 17ms/step - loss: 0.0066 - accuracy: 0.9997 - val_loss: 0.6657 - val_accuracy: 0.8612\n",
      "Epoch 19/40\n",
      "30/30 [==============================] - 1s 17ms/step - loss: 0.0064 - accuracy: 0.9997 - val_loss: 0.6683 - val_accuracy: 0.8611\n",
      "Epoch 20/40\n",
      "30/30 [==============================] - 1s 17ms/step - loss: 0.0063 - accuracy: 0.9997 - val_loss: 0.6710 - val_accuracy: 0.8610\n",
      "Epoch 21/40\n",
      "30/30 [==============================] - 1s 17ms/step - loss: 0.0062 - accuracy: 0.9997 - val_loss: 0.6739 - val_accuracy: 0.8610\n",
      "Epoch 22/40\n",
      "30/30 [==============================] - 1s 18ms/step - loss: 0.0061 - accuracy: 0.9997 - val_loss: 0.6759 - val_accuracy: 0.8613\n",
      "Epoch 23/40\n",
      "30/30 [==============================] - 0s 17ms/step - loss: 0.0060 - accuracy: 0.9997 - val_loss: 0.6785 - val_accuracy: 0.8612\n",
      "Epoch 24/40\n",
      "30/30 [==============================] - 1s 19ms/step - loss: 0.0059 - accuracy: 0.9997 - val_loss: 0.6816 - val_accuracy: 0.8614\n",
      "Epoch 25/40\n",
      "30/30 [==============================] - 1s 19ms/step - loss: 0.0057 - accuracy: 0.9997 - val_loss: 0.6840 - val_accuracy: 0.8613\n",
      "Epoch 26/40\n",
      "30/30 [==============================] - 1s 19ms/step - loss: 0.0057 - accuracy: 0.9997 - val_loss: 0.6868 - val_accuracy: 0.8610\n",
      "Epoch 27/40\n",
      "30/30 [==============================] - 1s 19ms/step - loss: 0.0055 - accuracy: 0.9997 - val_loss: 0.6902 - val_accuracy: 0.8604\n",
      "Epoch 28/40\n",
      "30/30 [==============================] - 1s 18ms/step - loss: 0.0054 - accuracy: 0.9997 - val_loss: 0.6929 - val_accuracy: 0.8605\n",
      "Epoch 29/40\n",
      "30/30 [==============================] - 1s 18ms/step - loss: 0.0053 - accuracy: 0.9998 - val_loss: 0.6949 - val_accuracy: 0.8608\n",
      "Epoch 30/40\n",
      "30/30 [==============================] - 1s 18ms/step - loss: 0.0053 - accuracy: 0.9997 - val_loss: 0.6978 - val_accuracy: 0.8607\n",
      "Epoch 31/40\n",
      "30/30 [==============================] - 1s 18ms/step - loss: 0.0050 - accuracy: 0.9997 - val_loss: 0.7006 - val_accuracy: 0.8608\n",
      "Epoch 32/40\n",
      "30/30 [==============================] - 1s 18ms/step - loss: 0.0050 - accuracy: 0.9998 - val_loss: 0.7038 - val_accuracy: 0.8603\n",
      "Epoch 33/40\n",
      "30/30 [==============================] - 1s 18ms/step - loss: 0.0048 - accuracy: 0.9997 - val_loss: 0.7060 - val_accuracy: 0.8603\n",
      "Epoch 34/40\n",
      "30/30 [==============================] - 1s 18ms/step - loss: 0.0047 - accuracy: 0.9998 - val_loss: 0.7085 - val_accuracy: 0.8606\n",
      "Epoch 35/40\n",
      "30/30 [==============================] - 1s 18ms/step - loss: 0.0046 - accuracy: 0.9998 - val_loss: 0.7115 - val_accuracy: 0.8600\n",
      "Epoch 36/40\n",
      "30/30 [==============================] - 1s 19ms/step - loss: 0.0046 - accuracy: 0.9997 - val_loss: 0.7139 - val_accuracy: 0.8607\n",
      "Epoch 37/40\n",
      "30/30 [==============================] - 1s 18ms/step - loss: 0.0044 - accuracy: 0.9998 - val_loss: 0.7175 - val_accuracy: 0.8605\n",
      "Epoch 38/40\n",
      "30/30 [==============================] - 1s 17ms/step - loss: 0.0044 - accuracy: 0.9998 - val_loss: 0.7197 - val_accuracy: 0.8596\n",
      "Epoch 39/40\n",
      "30/30 [==============================] - 1s 17ms/step - loss: 0.0042 - accuracy: 0.9998 - val_loss: 0.7238 - val_accuracy: 0.8598\n",
      "Epoch 40/40\n",
      "30/30 [==============================] - 0s 17ms/step - loss: 0.0041 - accuracy: 0.9997 - val_loss: 0.7258 - val_accuracy: 0.8597\n"
     ]
    }
   ],
   "source": [
    "x_val = train_data[:10000]\n",
    "x_train = train_data[10000:]\n",
    "\n",
    "y_val = train_labels[:10000]\n",
    "y_train = train_labels[10000:]\n",
    "\n",
    "fitModel = model.fit(x_train, y_train, epochs=40, batch_size=512, validation_data=(x_val, y_val), verbose=1)"
   ]
  },
  {
   "cell_type": "code",
   "execution_count": 24,
   "metadata": {},
   "outputs": [
    {
     "name": "stdout",
     "output_type": "stream",
     "text": [
      "782/782 [==============================] - 2s 2ms/step - loss: 0.7774 - accuracy: 0.8472\n",
      "[0.7773677110671997, 0.8471999764442444]\n"
     ]
    }
   ],
   "source": [
    "result = model.evaluate(test_data, test_labels)\n",
    "print(result)"
   ]
  },
  {
   "cell_type": "code",
   "execution_count": 25,
   "metadata": {},
   "outputs": [],
   "source": [
    "test_review = test_data[0]\n",
    "predict = model.predict([test_review])"
   ]
  },
  {
   "cell_type": "code",
   "execution_count": 26,
   "metadata": {},
   "outputs": [
    {
     "name": "stdout",
     "output_type": "stream",
     "text": [
      "Review: \n"
     ]
    }
   ],
   "source": [
    "print(\"Review: \")"
   ]
  },
  {
   "cell_type": "code",
   "execution_count": 27,
   "metadata": {},
   "outputs": [
    {
     "name": "stdout",
     "output_type": "stream",
     "text": [
      "<START> please give this one a miss br br <UNK> <UNK> and the rest of the cast rendered terrible performances the show is flat flat flat br br i don't know how michael madison could have allowed this one on his plate he almost seemed to know this wasn't going to work out and his performance was quite <UNK> so all you madison fans give this a miss <PAD> <PAD> <PAD> <PAD> <PAD> <PAD> <PAD> <PAD> <PAD> <PAD> <PAD> <PAD> <PAD> <PAD> <PAD> <PAD> <PAD> <PAD> <PAD> <PAD> <PAD> <PAD> <PAD> <PAD> <PAD> <PAD> <PAD> <PAD> <PAD> <PAD> <PAD> <PAD> <PAD> <PAD> <PAD> <PAD> <PAD> <PAD> <PAD> <PAD> <PAD> <PAD> <PAD> <PAD> <PAD> <PAD> <PAD> <PAD> <PAD> <PAD> <PAD> <PAD> <PAD> <PAD> <PAD> <PAD> <PAD> <PAD> <PAD> <PAD> <PAD> <PAD> <PAD> <PAD> <PAD> <PAD> <PAD> <PAD> <PAD> <PAD> <PAD> <PAD> <PAD> <PAD> <PAD> <PAD> <PAD> <PAD> <PAD> <PAD> <PAD> <PAD> <PAD> <PAD> <PAD> <PAD> <PAD> <PAD> <PAD> <PAD> <PAD> <PAD> <PAD> <PAD> <PAD> <PAD> <PAD> <PAD> <PAD> <PAD> <PAD> <PAD> <PAD> <PAD> <PAD> <PAD> <PAD> <PAD> <PAD> <PAD> <PAD> <PAD> <PAD> <PAD> <PAD> <PAD> <PAD> <PAD> <PAD> <PAD> <PAD> <PAD> <PAD> <PAD> <PAD> <PAD> <PAD> <PAD> <PAD> <PAD> <PAD> <PAD> <PAD> <PAD> <PAD> <PAD> <PAD> <PAD> <PAD> <PAD> <PAD> <PAD> <PAD> <PAD> <PAD> <PAD> <PAD> <PAD> <PAD> <PAD> <PAD> <PAD> <PAD> <PAD> <PAD> <PAD> <PAD> <PAD> <PAD> <PAD> <PAD> <PAD> <PAD> <PAD> <PAD> <PAD> <PAD> <PAD> <PAD> <PAD> <PAD> <PAD> <PAD> <PAD> <PAD> <PAD> <PAD> <PAD> <PAD> <PAD> <PAD> <PAD>\n"
     ]
    }
   ],
   "source": [
    "print(decode_review(test_review))"
   ]
  },
  {
   "cell_type": "code",
   "execution_count": 30,
   "metadata": {},
   "outputs": [
    {
     "name": "stdout",
     "output_type": "stream",
     "text": [
      "Prediction: [0.]\n",
      "Actual: 0\n"
     ]
    }
   ],
   "source": [
    "print(\"Prediction: \"  + str(predict[0]))\n",
    "print(\"Actual: \" + str(test_labels[0]))"
   ]
  },
  {
   "cell_type": "code",
   "execution_count": null,
   "metadata": {},
   "outputs": [],
   "source": []
  }
 ],
 "metadata": {
  "kernelspec": {
   "display_name": "Python 3",
   "language": "python",
   "name": "python3"
  },
  "language_info": {
   "codemirror_mode": {
    "name": "ipython",
    "version": 3
   },
   "file_extension": ".py",
   "mimetype": "text/x-python",
   "name": "python",
   "nbconvert_exporter": "python",
   "pygments_lexer": "ipython3",
   "version": "3.6.10"
  }
 },
 "nbformat": 4,
 "nbformat_minor": 4
}
