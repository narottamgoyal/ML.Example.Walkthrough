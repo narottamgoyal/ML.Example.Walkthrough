{
 "cells": [
  {
   "cell_type": "code",
   "execution_count": 4,
   "metadata": {},
   "outputs": [
    {
     "data": {
      "image/png": "[encoded data removed]",
      "text/plain": [
       "<Figure size 432x288 with 1 Axes>"
      ]
     },
     "metadata": {},
     "output_type": "display_data"
    },
    {
     "data": {
      "text/plain": [
       "<Figure size 432x288 with 0 Axes>"
      ]
     },
     "metadata": {},
     "output_type": "display_data"
    }
   ],
   "source": [
    "from sklearn.datasets.samples_generator import make_blobs \n",
    "from matplotlib import pyplot as plt  \n",
    "from matplotlib import style \n",
    "  \n",
    "style.use(\"fivethirtyeight\") \n",
    "  \n",
    "X, y = make_blobs(n_samples = 100, centers = 3,  \n",
    "               cluster_std = 1, n_features = 2) \n",
    "  \n",
    "plt.scatter(X[:, 0], X[:, 1], s = 40, color = 'g') \n",
    "plt.xlabel(\"X\") \n",
    "plt.ylabel(\"Y\") \n",
    "  \n",
    "plt.show() \n",
    "plt.clf() "
   ]
  },
  {
   "cell_type": "code",
   "execution_count": 5,
   "metadata": {},
   "outputs": [
    {
     "data": {
      "text/plain": [
       "(array([[ 0.18045585, -6.1577017 ],\n",
       "        [ 0.2911497 , -5.69683004],\n",
       "        [ 1.05538174, -4.85666649],\n",
       "        [-2.49562229, -0.23467017],\n",
       "        [-1.61088885,  0.07783866],\n",
       "        [-1.53316752,  3.02745349],\n",
       "        [ 1.88663484, -6.43541987],\n",
       "        [-2.98477831, -0.50657817],\n",
       "        [ 0.1140585 , -6.15131872],\n",
       "        [ 1.77947251, -7.38099848],\n",
       "        [ 2.38323185,  2.14701603],\n",
       "        [-1.47964955,  0.38566924],\n",
       "        [ 1.04146607, -5.45945354],\n",
       "        [-2.06746335,  0.39586624],\n",
       "        [ 4.75971979,  2.77048278],\n",
       "        [ 0.83242739, -6.2273626 ],\n",
       "        [ 4.51195364,  2.11249832],\n",
       "        [ 0.06937304, -7.92796534],\n",
       "        [-2.99999306,  0.98526778],\n",
       "        [ 2.71930984,  2.72112308],\n",
       "        [ 1.40998843, -5.70880277],\n",
       "        [ 1.37335705, -6.53424582],\n",
       "        [ 1.62591344,  1.68849166],\n",
       "        [ 4.06391716,  1.90737267],\n",
       "        [ 1.53287997,  3.44783509],\n",
       "        [-2.87854011,  2.59734526],\n",
       "        [ 2.31750892, -4.28993655],\n",
       "        [ 2.99847134,  3.13786004],\n",
       "        [ 4.0673601 ,  5.83005596],\n",
       "        [-3.64492349,  2.12546494],\n",
       "        [ 2.00198845,  4.78230242],\n",
       "        [ 3.47869738,  3.95776121],\n",
       "        [ 1.68521955, -5.65713202],\n",
       "        [-0.44858675,  0.55664174],\n",
       "        [ 2.2528859 ,  3.8648016 ],\n",
       "        [ 4.3039298 , -6.26980279],\n",
       "        [-0.28644772, -3.89530248],\n",
       "        [ 2.57206698,  5.0624206 ],\n",
       "        [ 1.29261486,  2.92317935],\n",
       "        [ 1.1605254 , -3.14437156],\n",
       "        [ 2.09694102, -5.8953643 ],\n",
       "        [ 0.60705631, -7.50848442],\n",
       "        [ 3.68767571,  3.45055715],\n",
       "        [ 3.6610255 ,  4.52759468],\n",
       "        [-3.30791759,  0.01568681],\n",
       "        [ 1.79584882,  4.21529208],\n",
       "        [-2.17360892, -0.33420588],\n",
       "        [-0.0247915 , -5.04719559],\n",
       "        [-2.29734296,  1.939619  ],\n",
       "        [ 2.5201373 , -5.91480842],\n",
       "        [-2.72018828,  1.05568422],\n",
       "        [-2.90082462,  2.01632548],\n",
       "        [-1.5294095 ,  0.63245285],\n",
       "        [-0.60106838, -5.64142971],\n",
       "        [ 1.60906987, -4.07368501],\n",
       "        [ 1.19974239, -6.02749397],\n",
       "        [ 2.47134631,  2.86028999],\n",
       "        [-3.30241901, -0.4495182 ],\n",
       "        [-2.03164577,  2.1584695 ],\n",
       "        [ 0.03490503, -4.94879977],\n",
       "        [-2.44065979,  0.55705576],\n",
       "        [ 1.87992534, -7.61905336],\n",
       "        [ 4.67638686,  3.43454636],\n",
       "        [ 0.14200534,  4.41659493],\n",
       "        [ 3.51511608,  4.7579467 ],\n",
       "        [ 2.80583467, -6.20503195],\n",
       "        [-1.28550615,  1.12501838],\n",
       "        [-1.5352873 ,  2.38412506],\n",
       "        [ 3.01721974,  2.52848131],\n",
       "        [ 0.88412537, -5.01344495],\n",
       "        [ 2.01699992,  2.41615413],\n",
       "        [ 2.41949785, -6.78206056],\n",
       "        [-1.70734714, -0.26223781],\n",
       "        [-1.79017507,  1.30622153],\n",
       "        [ 1.78215618, -5.40095082],\n",
       "        [ 2.66806359, -6.71580503],\n",
       "        [ 1.2212892 , -6.48862885],\n",
       "        [ 3.6140863 ,  3.84415146],\n",
       "        [-1.59239262,  1.48931781],\n",
       "        [ 2.89459146,  3.65775495],\n",
       "        [ 2.55670193,  4.16904731],\n",
       "        [-0.38215482,  0.50095403],\n",
       "        [-2.18603846,  1.83138429],\n",
       "        [-3.93714744,  1.79492179],\n",
       "        [ 1.76855798, -6.8561015 ],\n",
       "        [ 4.32614441,  4.56863765],\n",
       "        [ 2.43566029,  1.88346731],\n",
       "        [ 0.84756157, -7.73440151],\n",
       "        [ 3.2961138 ,  3.49308284],\n",
       "        [-0.695873  , -0.40109127],\n",
       "        [ 2.91509711,  4.3873804 ],\n",
       "        [ 1.80638864,  3.63714053],\n",
       "        [ 1.7618648 , -5.89503553],\n",
       "        [-2.41516485,  1.70154296],\n",
       "        [-2.29056946,  2.20550363],\n",
       "        [-4.0375464 ,  2.14060911],\n",
       "        [ 3.06110283,  3.59314535],\n",
       "        [-2.42687137,  0.51709729],\n",
       "        [ 3.4745845 ,  2.15924426],\n",
       "        [-0.4369094 ,  0.91820179]]),\n",
       " array([0, 0, 0, 2, 2, 2, 0, 2, 0, 0, 1, 2, 0, 2, 1, 0, 1, 0, 2, 1, 0, 0,\n",
       "        1, 1, 1, 2, 0, 1, 1, 2, 1, 1, 0, 2, 1, 0, 0, 1, 1, 0, 0, 0, 1, 1,\n",
       "        2, 1, 2, 0, 2, 0, 2, 2, 2, 0, 0, 0, 1, 2, 2, 0, 2, 0, 1, 1, 1, 0,\n",
       "        2, 2, 1, 0, 1, 0, 2, 2, 0, 0, 0, 1, 2, 1, 1, 2, 2, 2, 0, 1, 1, 0,\n",
       "        1, 2, 1, 1, 0, 2, 2, 2, 1, 2, 1, 2]))"
      ]
     },
     "execution_count": 5,
     "metadata": {},
     "output_type": "execute_result"
    }
   ],
   "source": [
    "X, y"
   ]
  },
  {
   "cell_type": "code",
   "execution_count": null,
   "metadata": {},
   "outputs": [],
   "source": []
  }
 ],
 "metadata": {
  "kernelspec": {
   "display_name": "Python 3",
   "language": "python",
   "name": "python3"
  },
  "language_info": {
   "codemirror_mode": {
    "name": "ipython",
    "version": 3
   },
   "file_extension": ".py",
   "mimetype": "text/x-python",
   "name": "python",
   "nbconvert_exporter": "python",
   "pygments_lexer": "ipython3",
   "version": "3.6.10"
  }
 },
 "nbformat": 4,
 "nbformat_minor": 4
}
