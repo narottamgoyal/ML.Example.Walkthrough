{
 "cells": [
  {
   "cell_type": "markdown",
   "metadata": {},
   "source": [
    "https://www.youtube.com/watch?v=BGiJqA-cGgQ&feature=emb_logo&ab_channel=TheDataPost\n",
    "\n",
    "RandomForestRegressor VS Decision Tree"
   ]
  },
  {
   "cell_type": "code",
   "execution_count": 1,
   "metadata": {},
   "outputs": [],
   "source": [
    "import numpy as np \n",
    "import matplotlib.pyplot as plt \n",
    "import pandas as pd "
   ]
  },
  {
   "cell_type": "code",
   "execution_count": 9,
   "metadata": {},
   "outputs": [
    {
     "data": {
      "text/plain": [
       "array([['Position', 'Level', 'Salary'],\n",
       "       ['A', '1', '1000'],\n",
       "       ['Sr A', '2', '2000'],\n",
       "       ['B', '3', '3000'],\n",
       "       ['Sr B', '4', '4000'],\n",
       "       ['C', '5', '5000'],\n",
       "       ['Sr C', '6', '6000'],\n",
       "       ['D', '7', '7000'],\n",
       "       ['Sr D', '8', '8000'],\n",
       "       ['E', '9', '9000'],\n",
       "       ['Sr E', '10', '10000']], dtype='<U8')"
      ]
     },
     "execution_count": 9,
     "metadata": {},
     "output_type": "execute_result"
    }
   ],
   "source": [
    "dataset = np.array( \n",
    "[['Position', 'Level', 'Salary'],\n",
    "['A', 1, 1000], \n",
    "['Sr A', 2, 2000], \n",
    "['B', 3, 3000], \n",
    "['Sr B', 4, 4000], \n",
    "['C', 5, 5000], \n",
    "['Sr C', 6, 6000], \n",
    "['D', 7, 7000], \n",
    "['Sr D', 8, 8000], \n",
    "['E', 9, 9000],\n",
    "['Sr E' , 10, 10000],  \n",
    "])\n",
    "dataset"
   ]
  },
  {
   "cell_type": "code",
   "execution_count": 10,
   "metadata": {},
   "outputs": [
    {
     "data": {
      "text/plain": [
       "array([['A', '1', '1000'],\n",
       "       ['Sr A', '2', '2000'],\n",
       "       ['B', '3', '3000'],\n",
       "       ['Sr B', '4', '4000'],\n",
       "       ['C', '5', '5000'],\n",
       "       ['Sr C', '6', '6000'],\n",
       "       ['D', '7', '7000'],\n",
       "       ['Sr D', '8', '8000'],\n",
       "       ['E', '9', '9000'],\n",
       "       ['Sr E', '10', '10000']], dtype='<U8')"
      ]
     },
     "execution_count": 10,
     "metadata": {},
     "output_type": "execute_result"
    }
   ],
   "source": [
    "data = dataset[1:,:]\n",
    "data"
   ]
  },
  {
   "cell_type": "code",
   "execution_count": 15,
   "metadata": {},
   "outputs": [
    {
     "name": "stdout",
     "output_type": "stream",
     "text": [
      "[ 1000  2000  3000  4000  5000  6000  7000  8000  9000 10000]\n"
     ]
    }
   ],
   "source": [
    "x = data[:,1:2].astype(int)\n",
    "y = data[:,2].astype(int)\n",
    "print(y)"
   ]
  },
  {
   "cell_type": "code",
   "execution_count": 16,
   "metadata": {},
   "outputs": [
    {
     "data": {
      "text/plain": [
       "RandomForestRegressor(random_state=0)"
      ]
     },
     "execution_count": 16,
     "metadata": {},
     "output_type": "execute_result"
    }
   ],
   "source": [
    "# Fitting Random Forest Regression to the dataset \n",
    "# import the regressor \n",
    "from sklearn.ensemble import RandomForestRegressor \n",
    "  \n",
    " # create regressor object \n",
    "regressor = RandomForestRegressor(n_estimators = 100, random_state = 0) \n",
    "  \n",
    "# fit the regressor with x and y data \n",
    "regressor.fit(x, y)"
   ]
  },
  {
   "cell_type": "code",
   "execution_count": 17,
   "metadata": {},
   "outputs": [
    {
     "data": {
      "text/plain": [
       "array([6140.])"
      ]
     },
     "execution_count": 17,
     "metadata": {},
     "output_type": "execute_result"
    }
   ],
   "source": [
    "Y_pred = regressor.predict(np.array([6.5]).reshape(1, 1))\n",
    "Y_pred"
   ]
  },
  {
   "cell_type": "code",
   "execution_count": null,
   "metadata": {},
   "outputs": [],
   "source": []
  }
 ],
 "metadata": {
  "kernelspec": {
   "display_name": "Python 3",
   "language": "python",
   "name": "python3"
  },
  "language_info": {
   "codemirror_mode": {
    "name": "ipython",
    "version": 3
   },
   "file_extension": ".py",
   "mimetype": "text/x-python",
   "name": "python",
   "nbconvert_exporter": "python",
   "pygments_lexer": "ipython3",
   "version": "3.6.10"
  }
 },
 "nbformat": 4,
 "nbformat_minor": 4
}
