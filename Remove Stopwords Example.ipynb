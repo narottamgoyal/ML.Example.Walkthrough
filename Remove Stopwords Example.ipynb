{
 "cells": [
  {
   "cell_type": "markdown",
   "metadata": {},
   "source": [
    "## Stopword Removal using NLTK"
   ]
  },
  {
   "cell_type": "code",
   "execution_count": 33,
   "metadata": {},
   "outputs": [],
   "source": [
    "import nltk\n",
    "from nltk.corpus import stopwords\n",
    "from nltk.tokenize import word_tokenize"
   ]
  },
  {
   "cell_type": "code",
   "execution_count": 34,
   "metadata": {},
   "outputs": [
    {
     "name": "stderr",
     "output_type": "stream",
     "text": [
      "[nltk_data] Downloading package punkt to\n",
      "[nltk_data]     C:\\Users\\NAROT\\AppData\\Roaming\\nltk_data...\n",
      "[nltk_data]   Package punkt is already up-to-date!\n"
     ]
    },
    {
     "data": {
      "text/plain": [
       "True"
      ]
     },
     "execution_count": 34,
     "metadata": {},
     "output_type": "execute_result"
    }
   ],
   "source": [
    "# set of stop words\n",
    "stop_words = set(stopwords.words('english')) \n",
    "nltk.download('punkt')"
   ]
  },
  {
   "cell_type": "code",
   "execution_count": 35,
   "metadata": {},
   "outputs": [],
   "source": [
    "text = '''Google News is a news aggregator service developed by Google. It presents a continuous\n",
    "flow of articles organized from thousands of publishers and magazines. Google News is available as \n",
    "an app on Android, iOS, and the Web. Google released a beta version in September 2002 and the \n",
    "official app in January 2006. Wikipedia'''"
   ]
  },
  {
   "cell_type": "code",
   "execution_count": 36,
   "metadata": {},
   "outputs": [],
   "source": [
    "# tokens of words  \n",
    "word_tokens = word_tokenize(text) \n",
    "    \n",
    "filtered_sentence = [] \n",
    "  \n",
    "for w in word_tokens: \n",
    "    if w not in stop_words: \n",
    "        filtered_sentence.append(w) "
   ]
  },
  {
   "cell_type": "code",
   "execution_count": 37,
   "metadata": {},
   "outputs": [
    {
     "name": "stdout",
     "output_type": "stream",
     "text": [
      "\n",
      "\n",
      "Original Sentence \n",
      "\n",
      "\n",
      "Google News is a news aggregator service developed by Google . It presents a continuous flow of articles organized from thousands of publishers and magazines . Google News is available as an app on Android , iOS , and the Web . Google released a beta version in September 2002 and the official app in January 2006 . Wikipedia\n",
      "\n",
      "\n",
      "Filtered Sentence \n",
      "\n",
      "\n",
      "Google News news aggregator service developed Google . It presents continuous flow articles organized thousands publishers magazines . Google News available app Android , iOS , Web . Google released beta version September 2002 official app January 2006 . Wikipedia\n"
     ]
    }
   ],
   "source": [
    "print(\"\\n\\nOriginal Sentence \\n\\n\")\n",
    "print(\" \".join(word_tokens)) \n",
    "\n",
    "print(\"\\n\\nFiltered Sentence \\n\\n\")\n",
    "print(\" \".join(filtered_sentence)) "
   ]
  },
  {
   "cell_type": "markdown",
   "metadata": {},
   "source": [
    "## Stopword Removal using spaCy"
   ]
  },
  {
   "cell_type": "code",
   "execution_count": 4,
   "metadata": {},
   "outputs": [],
   "source": [
    "from spacy.lang.en import English"
   ]
  },
  {
   "cell_type": "code",
   "execution_count": 5,
   "metadata": {},
   "outputs": [],
   "source": [
    "nlp = English()"
   ]
  },
  {
   "cell_type": "code",
   "execution_count": 9,
   "metadata": {},
   "outputs": [],
   "source": [
    "text = '''Google News is a news aggregator service developed by Google. It presents a continuous\n",
    "flow of articles organized from thousands of publishers and magazines. Google News is available as \n",
    "an app on Android, iOS, and the Web. Google released a beta version in September 2002 and the \n",
    "official app in January 2006. Wikipedia'''"
   ]
  },
  {
   "cell_type": "code",
   "execution_count": 10,
   "metadata": {},
   "outputs": [],
   "source": [
    "my_doc = nlp(text)\n",
    "token_list = []\n",
    "for token in my_doc:\n",
    "    token_list.append(token.text)"
   ]
  },
  {
   "cell_type": "code",
   "execution_count": 11,
   "metadata": {},
   "outputs": [],
   "source": [
    "from spacy.lang.en.stop_words import STOP_WORDS"
   ]
  },
  {
   "cell_type": "code",
   "execution_count": 12,
   "metadata": {},
   "outputs": [],
   "source": [
    "filtered_sentence =[] \n",
    "\n",
    "for word in token_list:\n",
    "    lexeme = nlp.vocab[word]\n",
    "    if lexeme.is_stop == False:\n",
    "        filtered_sentence.append(word) "
   ]
  },
  {
   "cell_type": "code",
   "execution_count": 14,
   "metadata": {},
   "outputs": [
    {
     "name": "stdout",
     "output_type": "stream",
     "text": [
      "['Google', 'News', 'is', 'a', 'news', 'aggregator', 'service', 'developed', 'by', 'Google', '.', 'It', 'presents', 'a', 'continuous', '\\n', 'flow', 'of', 'articles', 'organized', 'from', 'thousands', 'of', 'publishers', 'and', 'magazines', '.', 'Google', 'News', 'is', 'available', 'as', '\\n', 'an', 'app', 'on', 'Android', ',', 'iOS', ',', 'and', 'the', 'Web', '.', 'Google', 'released', 'a', 'beta', 'version', 'in', 'September', '2002', 'and', 'the', '\\n', 'official', 'app', 'in', 'January', '2006', '.', 'Wikipedia']\n"
     ]
    }
   ],
   "source": [
    "print(token_list)"
   ]
  },
  {
   "cell_type": "code",
   "execution_count": 15,
   "metadata": {},
   "outputs": [
    {
     "name": "stdout",
     "output_type": "stream",
     "text": [
      "['Google', 'News', 'news', 'aggregator', 'service', 'developed', 'Google', '.', 'presents', 'continuous', '\\n', 'flow', 'articles', 'organized', 'thousands', 'publishers', 'magazines', '.', 'Google', 'News', 'available', '\\n', 'app', 'Android', ',', 'iOS', ',', 'Web', '.', 'Google', 'released', 'beta', 'version', 'September', '2002', '\\n', 'official', 'app', 'January', '2006', '.', 'Wikipedia']\n"
     ]
    }
   ],
   "source": [
    "print(filtered_sentence)"
   ]
  },
  {
   "cell_type": "markdown",
   "metadata": {},
   "source": [
    "## Stopword Removal using Gensim"
   ]
  },
  {
   "cell_type": "code",
   "execution_count": 40,
   "metadata": {},
   "outputs": [],
   "source": [
    "from gensim.parsing.preprocessing import remove_stopwords"
   ]
  },
  {
   "cell_type": "code",
   "execution_count": 44,
   "metadata": {},
   "outputs": [
    {
     "data": {
      "text/plain": [
       "'Google News is a news aggregator service developed by Google. It presents a continuous\\nflow of articles organized from thousands of publishers and magazines. Google News is available as \\nan app on Android, iOS, and the Web. Google released a beta version in September 2002 and the \\nofficial app in January 2006. Wikipedia'"
      ]
     },
     "execution_count": 44,
     "metadata": {},
     "output_type": "execute_result"
    }
   ],
   "source": [
    "text"
   ]
  },
  {
   "cell_type": "code",
   "execution_count": 42,
   "metadata": {},
   "outputs": [],
   "source": [
    "result = remove_stopwords(text)"
   ]
  },
  {
   "cell_type": "code",
   "execution_count": 43,
   "metadata": {},
   "outputs": [
    {
     "name": "stdout",
     "output_type": "stream",
     "text": [
      "\n",
      "\n",
      " Filtered Sentence \n",
      "\n",
      "\n",
      "Google News news aggregator service developed Google. It presents continuous flow articles organized thousands publishers magazines. Google News available app Android, iOS, Web. Google released beta version September 2002 official app January 2006. Wikipedia\n"
     ]
    }
   ],
   "source": [
    "print('\\n\\n Filtered Sentence \\n\\n')\n",
    "print(result)  "
   ]
  },
  {
   "cell_type": "code",
   "execution_count": null,
   "metadata": {},
   "outputs": [],
   "source": []
  }
 ],
 "metadata": {
  "kernelspec": {
   "display_name": "Python 3",
   "language": "python",
   "name": "python3"
  },
  "language_info": {
   "codemirror_mode": {
    "name": "ipython",
    "version": 3
   },
   "file_extension": ".py",
   "mimetype": "text/x-python",
   "name": "python",
   "nbconvert_exporter": "python",
   "pygments_lexer": "ipython3",
   "version": "3.8.5"
  }
 },
 "nbformat": 4,
 "nbformat_minor": 4
}
