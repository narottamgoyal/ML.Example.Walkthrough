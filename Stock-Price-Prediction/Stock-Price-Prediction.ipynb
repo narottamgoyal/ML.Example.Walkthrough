{
 "cells": [
  {
   "cell_type": "code",
   "execution_count": 2,
   "metadata": {},
   "outputs": [],
   "source": [
    "import numpy as np\n",
    "import pandas as pd\n",
    "import matplotlib.pyplot as plt"
   ]
  },
  {
   "cell_type": "code",
   "execution_count": 21,
   "metadata": {},
   "outputs": [],
   "source": [
    "dataset = pd.read_csv('Google_Stock_Price_Train.csv')\n",
    "dataset_test = pd.read_csv('Google_Stock_Price_Test.csv')"
   ]
  },
  {
   "cell_type": "code",
   "execution_count": 4,
   "metadata": {},
   "outputs": [
    {
     "data": {
      "text/html": [
       "<div>\n",
       "<style scoped>\n",
       "    .dataframe tbody tr th:only-of-type {\n",
       "        vertical-align: middle;\n",
       "    }\n",
       "\n",
       "    .dataframe tbody tr th {\n",
       "        vertical-align: top;\n",
       "    }\n",
       "\n",
       "    .dataframe thead th {\n",
       "        text-align: right;\n",
       "    }\n",
       "</style>\n",
       "<table border=\"1\" class=\"dataframe\">\n",
       "  <thead>\n",
       "    <tr style=\"text-align: right;\">\n",
       "      <th></th>\n",
       "      <th>Date</th>\n",
       "      <th>Open</th>\n",
       "      <th>High</th>\n",
       "      <th>Low</th>\n",
       "      <th>Close</th>\n",
       "      <th>Volume</th>\n",
       "    </tr>\n",
       "  </thead>\n",
       "  <tbody>\n",
       "    <tr>\n",
       "      <th>0</th>\n",
       "      <td>1/3/2012</td>\n",
       "      <td>325.25</td>\n",
       "      <td>332.83</td>\n",
       "      <td>324.97</td>\n",
       "      <td>663.59</td>\n",
       "      <td>7,380,500</td>\n",
       "    </tr>\n",
       "    <tr>\n",
       "      <th>1</th>\n",
       "      <td>1/4/2012</td>\n",
       "      <td>331.27</td>\n",
       "      <td>333.87</td>\n",
       "      <td>329.08</td>\n",
       "      <td>666.45</td>\n",
       "      <td>5,749,400</td>\n",
       "    </tr>\n",
       "    <tr>\n",
       "      <th>2</th>\n",
       "      <td>1/5/2012</td>\n",
       "      <td>329.83</td>\n",
       "      <td>330.75</td>\n",
       "      <td>326.89</td>\n",
       "      <td>657.21</td>\n",
       "      <td>6,590,300</td>\n",
       "    </tr>\n",
       "    <tr>\n",
       "      <th>3</th>\n",
       "      <td>1/6/2012</td>\n",
       "      <td>328.34</td>\n",
       "      <td>328.77</td>\n",
       "      <td>323.68</td>\n",
       "      <td>648.24</td>\n",
       "      <td>5,405,900</td>\n",
       "    </tr>\n",
       "    <tr>\n",
       "      <th>4</th>\n",
       "      <td>1/9/2012</td>\n",
       "      <td>322.04</td>\n",
       "      <td>322.29</td>\n",
       "      <td>309.46</td>\n",
       "      <td>620.76</td>\n",
       "      <td>11,688,800</td>\n",
       "    </tr>\n",
       "  </tbody>\n",
       "</table>\n",
       "</div>"
      ],
      "text/plain": [
       "       Date    Open    High     Low   Close      Volume\n",
       "0  1/3/2012  325.25  332.83  324.97  663.59   7,380,500\n",
       "1  1/4/2012  331.27  333.87  329.08  666.45   5,749,400\n",
       "2  1/5/2012  329.83  330.75  326.89  657.21   6,590,300\n",
       "3  1/6/2012  328.34  328.77  323.68  648.24   5,405,900\n",
       "4  1/9/2012  322.04  322.29  309.46  620.76  11,688,800"
      ]
     },
     "execution_count": 4,
     "metadata": {},
     "output_type": "execute_result"
    }
   ],
   "source": [
    "dataset.head()"
   ]
  },
  {
   "cell_type": "code",
   "execution_count": 6,
   "metadata": {},
   "outputs": [
    {
     "data": {
      "text/plain": [
       "array([[325.25],\n",
       "       [331.27],\n",
       "       [329.83],\n",
       "       ...,\n",
       "       [793.7 ],\n",
       "       [783.33],\n",
       "       [782.75]])"
      ]
     },
     "execution_count": 6,
     "metadata": {},
     "output_type": "execute_result"
    }
   ],
   "source": [
    "training_set = dataset.iloc[:,1:2].values\n",
    "training_set"
   ]
  },
  {
   "cell_type": "markdown",
   "metadata": {},
   "source": [
    "## feature scaling standard normal distribution"
   ]
  },
  {
   "cell_type": "code",
   "execution_count": 7,
   "metadata": {},
   "outputs": [],
   "source": [
    "from sklearn.preprocessing import MinMaxScaler\n",
    "sc = MinMaxScaler(feature_range=(0,1))\n",
    "training_set_scaled = sc.fit_transform(training_set)"
   ]
  },
  {
   "cell_type": "code",
   "execution_count": 8,
   "metadata": {},
   "outputs": [
    {
     "data": {
      "text/plain": [
       "array([[0.08581368],\n",
       "       [0.09701243],\n",
       "       [0.09433366],\n",
       "       ...,\n",
       "       [0.95725128],\n",
       "       [0.93796041],\n",
       "       [0.93688146]])"
      ]
     },
     "execution_count": 8,
     "metadata": {},
     "output_type": "execute_result"
    }
   ],
   "source": [
    "training_set_scaled"
   ]
  },
  {
   "cell_type": "code",
   "execution_count": 9,
   "metadata": {},
   "outputs": [],
   "source": [
    "x_train = []\n",
    "y_train = []\n",
    "for i in range(60, len(training_set_scaled)):\n",
    "    x_train.append(training_set_scaled[i-60:i,0])\n",
    "    y_train.append(training_set_scaled[i,0])"
   ]
  },
  {
   "cell_type": "code",
   "execution_count": 10,
   "metadata": {},
   "outputs": [],
   "source": [
    "x_train, y_train = np.array(x_train), np.array(y_train)"
   ]
  },
  {
   "cell_type": "code",
   "execution_count": 11,
   "metadata": {},
   "outputs": [],
   "source": [
    "x_train = np.reshape(x_train, (x_train.shape[0], x_train.shape[1], 1))"
   ]
  },
  {
   "cell_type": "code",
   "execution_count": 12,
   "metadata": {},
   "outputs": [],
   "source": [
    "from keras.models import Sequential\n",
    "from keras.layers import Dense\n",
    "from keras.layers import LSTM\n",
    "from keras.layers import Dropout"
   ]
  },
  {
   "cell_type": "code",
   "execution_count": 13,
   "metadata": {},
   "outputs": [],
   "source": [
    "regresor = Sequential()"
   ]
  },
  {
   "cell_type": "code",
   "execution_count": 14,
   "metadata": {},
   "outputs": [],
   "source": [
    "regresor.add(LSTM(units=50, return_sequences = True, input_shape = (x_train.shape[1], 1)))\n",
    "regresor.add(Dropout(0.2))"
   ]
  },
  {
   "cell_type": "code",
   "execution_count": 15,
   "metadata": {},
   "outputs": [],
   "source": [
    "regresor.add(LSTM(units=50, return_sequences = True))\n",
    "regresor.add(Dropout(0.2))"
   ]
  },
  {
   "cell_type": "code",
   "execution_count": 16,
   "metadata": {},
   "outputs": [],
   "source": [
    "regresor.add(LSTM(units=50, return_sequences = True))\n",
    "regresor.add(Dropout(0.2))"
   ]
  },
  {
   "cell_type": "code",
   "execution_count": 17,
   "metadata": {},
   "outputs": [],
   "source": [
    "regresor.add(LSTM(units=50))\n",
    "regresor.add(Dropout(0.2))"
   ]
  },
  {
   "cell_type": "code",
   "execution_count": 18,
   "metadata": {},
   "outputs": [],
   "source": [
    "regresor.add(Dense(units=1))"
   ]
  },
  {
   "cell_type": "code",
   "execution_count": 19,
   "metadata": {},
   "outputs": [],
   "source": [
    "regresor.compile(optimizer='adam', loss=\"mean_squared_error\")"
   ]
  },
  {
   "cell_type": "code",
   "execution_count": 1,
   "metadata": {},
   "outputs": [],
   "source": [
    "import tensorflow as tf\n",
    "physical_devices = tf.config.list_physical_devices('GPU') \n",
    "tf.config.experimental.set_memory_growth(physical_devices[0], True)"
   ]
  },
  {
   "cell_type": "code",
   "execution_count": 20,
   "metadata": {},
   "outputs": [
    {
     "name": "stdout",
     "output_type": "stream",
     "text": [
      "Epoch 1/100\n",
      "38/38 [==============================] - 7s 20ms/step - loss: 0.1036: 0s - loss:\n",
      "Epoch 2/100\n",
      "38/38 [==============================] - 1s 17ms/step - loss: 0.0070\n",
      "Epoch 3/100\n",
      "38/38 [==============================] - 1s 17ms/step - loss: 0.0056\n",
      "Epoch 4/100\n",
      "38/38 [==============================] - 1s 17ms/step - loss: 0.0053\n",
      "Epoch 5/100\n",
      "38/38 [==============================] - 1s 17ms/step - loss: 0.0053\n",
      "Epoch 6/100\n",
      "38/38 [==============================] - 1s 17ms/step - loss: 0.0044\n",
      "Epoch 7/100\n",
      "38/38 [==============================] - 1s 17ms/step - loss: 0.0047\n",
      "Epoch 8/100\n",
      "38/38 [==============================] - 1s 16ms/step - loss: 0.0055\n",
      "Epoch 9/100\n",
      "38/38 [==============================] - 1s 16ms/step - loss: 0.0040\n",
      "Epoch 10/100\n",
      "38/38 [==============================] - 1s 17ms/step - loss: 0.0041: 0s - loss: 0.00\n",
      "Epoch 11/100\n",
      "38/38 [==============================] - 1s 17ms/step - loss: 0.0048\n",
      "Epoch 12/100\n",
      "38/38 [==============================] - 1s 16ms/step - loss: 0.0037\n",
      "Epoch 13/100\n",
      "38/38 [==============================] - 1s 17ms/step - loss: 0.0035\n",
      "Epoch 14/100\n",
      "38/38 [==============================] - 1s 17ms/step - loss: 0.0032: 0s - l\n",
      "Epoch 15/100\n",
      "38/38 [==============================] - 1s 17ms/step - loss: 0.0038\n",
      "Epoch 16/100\n",
      "38/38 [==============================] - 1s 16ms/step - loss: 0.0036\n",
      "Epoch 17/100\n",
      "38/38 [==============================] - 1s 18ms/step - loss: 0.0039\n",
      "Epoch 18/100\n",
      "38/38 [==============================] - 1s 17ms/step - loss: 0.0035\n",
      "Epoch 19/100\n",
      "38/38 [==============================] - 1s 17ms/step - loss: 0.0044\n",
      "Epoch 20/100\n",
      "38/38 [==============================] - 1s 17ms/step - loss: 0.0035: 0s - loss: 0.0\n",
      "Epoch 21/100\n",
      "38/38 [==============================] - 1s 17ms/step - loss: 0.0032\n",
      "Epoch 22/100\n",
      "38/38 [==============================] - 1s 21ms/step - loss: 0.0035\n",
      "Epoch 23/100\n",
      "38/38 [==============================] - 1s 19ms/step - loss: 0.0036\n",
      "Epoch 24/100\n",
      "38/38 [==============================] - 1s 22ms/step - loss: 0.0028\n",
      "Epoch 25/100\n",
      "38/38 [==============================] - 1s 19ms/step - loss: 0.0031\n",
      "Epoch 26/100\n",
      "38/38 [==============================] - 1s 17ms/step - loss: 0.0032\n",
      "Epoch 27/100\n",
      "38/38 [==============================] - 1s 35ms/step - loss: 0.0029\n",
      "Epoch 28/100\n",
      "38/38 [==============================] - 1s 30ms/step - loss: 0.0027\n",
      "Epoch 29/100\n",
      "38/38 [==============================] - 1s 25ms/step - loss: 0.0033\n",
      "Epoch 30/100\n",
      "38/38 [==============================] - 1s 25ms/step - loss: 0.0036\n",
      "Epoch 31/100\n",
      "38/38 [==============================] - 1s 19ms/step - loss: 0.0029\n",
      "Epoch 32/100\n",
      "38/38 [==============================] - 1s 17ms/step - loss: 0.0027: 0s - loss: 0\n",
      "Epoch 33/100\n",
      "38/38 [==============================] - 1s 17ms/step - loss: 0.0027\n",
      "Epoch 34/100\n",
      "38/38 [==============================] - 1s 18ms/step - loss: 0.0029\n",
      "Epoch 35/100\n",
      "38/38 [==============================] - 1s 17ms/step - loss: 0.0028\n",
      "Epoch 36/100\n",
      "38/38 [==============================] - 1s 17ms/step - loss: 0.0025\n",
      "Epoch 37/100\n",
      "38/38 [==============================] - 1s 17ms/step - loss: 0.0025\n",
      "Epoch 38/100\n",
      "38/38 [==============================] - 1s 20ms/step - loss: 0.0031\n",
      "Epoch 39/100\n",
      "38/38 [==============================] - 1s 18ms/step - loss: 0.0025\n",
      "Epoch 40/100\n",
      "38/38 [==============================] - 1s 17ms/step - loss: 0.0025\n",
      "Epoch 41/100\n",
      "38/38 [==============================] - 1s 16ms/step - loss: 0.0027\n",
      "Epoch 42/100\n",
      "38/38 [==============================] - 1s 17ms/step - loss: 0.0024\n",
      "Epoch 43/100\n",
      "38/38 [==============================] - 1s 17ms/step - loss: 0.0026\n",
      "Epoch 44/100\n",
      "38/38 [==============================] - 1s 20ms/step - loss: 0.0028\n",
      "Epoch 45/100\n",
      "38/38 [==============================] - 1s 16ms/step - loss: 0.0031\n",
      "Epoch 46/100\n",
      "38/38 [==============================] - 1s 16ms/step - loss: 0.0025\n",
      "Epoch 47/100\n",
      "38/38 [==============================] - 1s 16ms/step - loss: 0.0020\n",
      "Epoch 48/100\n",
      "38/38 [==============================] - 1s 16ms/step - loss: 0.0023\n",
      "Epoch 49/100\n",
      "38/38 [==============================] - 1s 16ms/step - loss: 0.0024\n",
      "Epoch 50/100\n",
      "38/38 [==============================] - 1s 15ms/step - loss: 0.0024\n",
      "Epoch 51/100\n",
      "38/38 [==============================] - 1s 16ms/step - loss: 0.0025\n",
      "Epoch 52/100\n",
      "38/38 [==============================] - 1s 16ms/step - loss: 0.0021: 0s - loss: \n",
      "Epoch 53/100\n",
      "38/38 [==============================] - 1s 16ms/step - loss: 0.0026\n",
      "Epoch 54/100\n",
      "38/38 [==============================] - 1s 16ms/step - loss: 0.0023\n",
      "Epoch 55/100\n",
      "38/38 [==============================] - 1s 16ms/step - loss: 0.0020\n",
      "Epoch 56/100\n",
      "38/38 [==============================] - 1s 16ms/step - loss: 0.0023\n",
      "Epoch 57/100\n",
      "38/38 [==============================] - 1s 16ms/step - loss: 0.0020\n",
      "Epoch 58/100\n",
      "38/38 [==============================] - 1s 16ms/step - loss: 0.0022\n",
      "Epoch 59/100\n",
      "38/38 [==============================] - 1s 17ms/step - loss: 0.0020\n",
      "Epoch 60/100\n",
      "38/38 [==============================] - 1s 17ms/step - loss: 0.0023\n",
      "Epoch 61/100\n",
      "38/38 [==============================] - 1s 17ms/step - loss: 0.0022\n",
      "Epoch 62/100\n",
      "38/38 [==============================] - ETA: 0s - loss: 0.002 - 1s 17ms/step - loss: 0.0020\n",
      "Epoch 63/100\n",
      "38/38 [==============================] - 1s 16ms/step - loss: 0.0021\n",
      "Epoch 64/100\n",
      "38/38 [==============================] - 1s 16ms/step - loss: 0.0024\n",
      "Epoch 65/100\n",
      "38/38 [==============================] - 1s 17ms/step - loss: 0.0022\n",
      "Epoch 66/100\n",
      "38/38 [==============================] - 1s 16ms/step - loss: 0.0019\n",
      "Epoch 67/100\n",
      "38/38 [==============================] - 1s 17ms/step - loss: 0.0018\n",
      "Epoch 68/100\n",
      "38/38 [==============================] - 1s 16ms/step - loss: 0.0018\n",
      "Epoch 69/100\n",
      "38/38 [==============================] - 1s 17ms/step - loss: 0.0017\n",
      "Epoch 70/100\n",
      "38/38 [==============================] - 1s 17ms/step - loss: 0.0019\n",
      "Epoch 71/100\n",
      "38/38 [==============================] - 1s 16ms/step - loss: 0.0019\n",
      "Epoch 72/100\n",
      "38/38 [==============================] - 1s 16ms/step - loss: 0.0015\n",
      "Epoch 73/100\n",
      "38/38 [==============================] - 1s 17ms/step - loss: 0.0018\n",
      "Epoch 74/100\n",
      "38/38 [==============================] - 1s 16ms/step - loss: 0.0016\n",
      "Epoch 75/100\n",
      "38/38 [==============================] - 1s 17ms/step - loss: 0.0019\n",
      "Epoch 76/100\n",
      "38/38 [==============================] - 1s 16ms/step - loss: 0.0017\n",
      "Epoch 77/100\n",
      "38/38 [==============================] - 1s 19ms/step - loss: 0.0021\n",
      "Epoch 78/100\n",
      "38/38 [==============================] - 1s 16ms/step - loss: 0.0016\n",
      "Epoch 79/100\n",
      "38/38 [==============================] - 1s 18ms/step - loss: 0.0015\n",
      "Epoch 80/100\n",
      "38/38 [==============================] - 1s 21ms/step - loss: 0.0016\n",
      "Epoch 81/100\n",
      "38/38 [==============================] - 1s 22ms/step - loss: 0.0017\n",
      "Epoch 82/100\n",
      "38/38 [==============================] - 1s 17ms/step - loss: 0.0016\n",
      "Epoch 83/100\n",
      "38/38 [==============================] - 1s 17ms/step - loss: 0.0019\n",
      "Epoch 84/100\n",
      "38/38 [==============================] - 1s 17ms/step - loss: 0.0017\n",
      "Epoch 85/100\n",
      "38/38 [==============================] - 1s 16ms/step - loss: 0.0015\n",
      "Epoch 86/100\n",
      "38/38 [==============================] - 1s 16ms/step - loss: 0.0015\n",
      "Epoch 87/100\n",
      "38/38 [==============================] - 1s 17ms/step - loss: 0.0016\n",
      "Epoch 88/100\n",
      "38/38 [==============================] - 1s 17ms/step - loss: 0.0016\n",
      "Epoch 89/100\n",
      "38/38 [==============================] - 1s 17ms/step - loss: 0.0016\n",
      "Epoch 90/100\n",
      "38/38 [==============================] - 1s 16ms/step - loss: 0.0016\n",
      "Epoch 91/100\n",
      "38/38 [==============================] - 1s 17ms/step - loss: 0.0015\n",
      "Epoch 92/100\n",
      "38/38 [==============================] - 1s 17ms/step - loss: 0.0014\n",
      "Epoch 93/100\n",
      "38/38 [==============================] - 1s 16ms/step - loss: 0.0016\n",
      "Epoch 94/100\n",
      "38/38 [==============================] - 1s 16ms/step - loss: 0.0017\n",
      "Epoch 95/100\n",
      "38/38 [==============================] - 1s 16ms/step - loss: 0.0015\n",
      "Epoch 96/100\n",
      "38/38 [==============================] - 1s 16ms/step - loss: 0.0017\n",
      "Epoch 97/100\n",
      "38/38 [==============================] - 1s 17ms/step - loss: 0.0014\n",
      "Epoch 98/100\n",
      "38/38 [==============================] - 1s 17ms/step - loss: 0.0014\n",
      "Epoch 99/100\n",
      "38/38 [==============================] - 1s 17ms/step - loss: 0.0017\n",
      "Epoch 100/100\n",
      "38/38 [==============================] - 1s 17ms/step - loss: 0.0016\n"
     ]
    },
    {
     "data": {
      "text/plain": [
       "<tensorflow.python.keras.callbacks.History at 0x25c3ee20dd8>"
      ]
     },
     "execution_count": 20,
     "metadata": {},
     "output_type": "execute_result"
    }
   ],
   "source": [
    "regresor.fit(x_train, y_train, epochs=100, batch_size=32)"
   ]
  },
  {
   "cell_type": "code",
   "execution_count": 217,
   "metadata": {},
   "outputs": [
    {
     "data": {
      "text/html": [
       "<div>\n",
       "<style scoped>\n",
       "    .dataframe tbody tr th:only-of-type {\n",
       "        vertical-align: middle;\n",
       "    }\n",
       "\n",
       "    .dataframe tbody tr th {\n",
       "        vertical-align: top;\n",
       "    }\n",
       "\n",
       "    .dataframe thead th {\n",
       "        text-align: right;\n",
       "    }\n",
       "</style>\n",
       "<table border=\"1\" class=\"dataframe\">\n",
       "  <thead>\n",
       "    <tr style=\"text-align: right;\">\n",
       "      <th></th>\n",
       "      <th>Date</th>\n",
       "      <th>Open</th>\n",
       "      <th>High</th>\n",
       "      <th>Low</th>\n",
       "      <th>Close</th>\n",
       "      <th>Volume</th>\n",
       "    </tr>\n",
       "  </thead>\n",
       "  <tbody>\n",
       "    <tr>\n",
       "      <th>0</th>\n",
       "      <td>01-03-2017</td>\n",
       "      <td>778.81</td>\n",
       "      <td>789.63</td>\n",
       "      <td>775.80</td>\n",
       "      <td>786.14</td>\n",
       "      <td>16,57,300</td>\n",
       "    </tr>\n",
       "    <tr>\n",
       "      <th>1</th>\n",
       "      <td>01-04-2017</td>\n",
       "      <td>788.36</td>\n",
       "      <td>791.34</td>\n",
       "      <td>783.16</td>\n",
       "      <td>786.90</td>\n",
       "      <td>10,73,000</td>\n",
       "    </tr>\n",
       "    <tr>\n",
       "      <th>2</th>\n",
       "      <td>01-05-2017</td>\n",
       "      <td>786.08</td>\n",
       "      <td>794.48</td>\n",
       "      <td>785.02</td>\n",
       "      <td>794.02</td>\n",
       "      <td>13,35,200</td>\n",
       "    </tr>\n",
       "    <tr>\n",
       "      <th>3</th>\n",
       "      <td>01-06-2017</td>\n",
       "      <td>795.26</td>\n",
       "      <td>807.90</td>\n",
       "      <td>792.20</td>\n",
       "      <td>806.15</td>\n",
       "      <td>16,40,200</td>\n",
       "    </tr>\n",
       "    <tr>\n",
       "      <th>4</th>\n",
       "      <td>01-09-2017</td>\n",
       "      <td>806.40</td>\n",
       "      <td>809.97</td>\n",
       "      <td>802.83</td>\n",
       "      <td>806.65</td>\n",
       "      <td>12,72,400</td>\n",
       "    </tr>\n",
       "  </tbody>\n",
       "</table>\n",
       "</div>"
      ],
      "text/plain": [
       "         Date    Open    High     Low   Close     Volume\n",
       "0  01-03-2017  778.81  789.63  775.80  786.14  16,57,300\n",
       "1  01-04-2017  788.36  791.34  783.16  786.90  10,73,000\n",
       "2  01-05-2017  786.08  794.48  785.02  794.02  13,35,200\n",
       "3  01-06-2017  795.26  807.90  792.20  806.15  16,40,200\n",
       "4  01-09-2017  806.40  809.97  802.83  806.65  12,72,400"
      ]
     },
     "execution_count": 217,
     "metadata": {},
     "output_type": "execute_result"
    }
   ],
   "source": [
    "dataset_test = pd.read_csv('Google_Stock_Price_Test.csv')\n",
    "dataset_test.head()"
   ]
  },
  {
   "cell_type": "code",
   "execution_count": 218,
   "metadata": {},
   "outputs": [],
   "source": [
    "real_stock_price = dataset_test.iloc[:,1:2].values"
   ]
  },
  {
   "cell_type": "code",
   "execution_count": 219,
   "metadata": {},
   "outputs": [
    {
     "data": {
      "text/plain": [
       "array([[778.81],\n",
       "       [788.36],\n",
       "       [786.08],\n",
       "       [795.26],\n",
       "       [806.4 ],\n",
       "       [807.86],\n",
       "       [805.  ],\n",
       "       [807.14],\n",
       "       [807.48],\n",
       "       [807.08],\n",
       "       [805.81],\n",
       "       [805.12],\n",
       "       [806.91],\n",
       "       [807.25],\n",
       "       [822.3 ],\n",
       "       [829.62],\n",
       "       [837.81],\n",
       "       [834.71],\n",
       "       [814.66],\n",
       "       [796.86],\n",
       "       [   nan],\n",
       "       [   nan]])"
      ]
     },
     "execution_count": 219,
     "metadata": {},
     "output_type": "execute_result"
    }
   ],
   "source": [
    "real_stock_price"
   ]
  },
  {
   "cell_type": "code",
   "execution_count": 220,
   "metadata": {},
   "outputs": [],
   "source": [
    "dataset_total = pd.concat((dataset['Open'], dataset_test['Open']), axis=0)"
   ]
  },
  {
   "cell_type": "code",
   "execution_count": 221,
   "metadata": {},
   "outputs": [],
   "source": [
    "inputs = dataset_total[len(dataset_total) - len(dataset_test) - 60:].values"
   ]
  },
  {
   "cell_type": "code",
   "execution_count": 222,
   "metadata": {},
   "outputs": [],
   "source": [
    "inputs = inputs.reshape(-1,1)"
   ]
  },
  {
   "cell_type": "code",
   "execution_count": 223,
   "metadata": {},
   "outputs": [],
   "source": [
    "inputs = sc.transform(inputs)"
   ]
  },
  {
   "cell_type": "code",
   "execution_count": 231,
   "metadata": {},
   "outputs": [],
   "source": [
    "x_test = []"
   ]
  },
  {
   "cell_type": "code",
   "execution_count": 232,
   "metadata": {},
   "outputs": [],
   "source": [
    "for i in range(60, 83):\n",
    "    #print(inputs[i-60:i, 0])\n",
    "    x_test.append(inputs[i-60:i, 0])"
   ]
  },
  {
   "cell_type": "code",
   "execution_count": 233,
   "metadata": {},
   "outputs": [],
   "source": [
    "x_test = np.array(x_test)\n",
    "x_test = np.reshape(x_test, (x_test.shape[0], x_test.shape[1], 1))\n",
    "predicted_stock_price = regresor.predict(x_test)\n",
    "predicted_stock_price = sc.inverse_transform(predicted_stock_price)"
   ]
  },
  {
   "cell_type": "code",
   "execution_count": 234,
   "metadata": {},
   "outputs": [
    {
     "data": {
      "text/plain": [
       "array([[789.92413],\n",
       "       [786.98145],\n",
       "       [787.37585],\n",
       "       [788.9212 ],\n",
       "       [792.2718 ],\n",
       "       [797.9916 ],\n",
       "       [802.86456],\n",
       "       [804.2943 ],\n",
       "       [804.0932 ],\n",
       "       [803.7974 ],\n",
       "       [803.9245 ],\n",
       "       [804.21857],\n",
       "       [804.5512 ],\n",
       "       [805.4532 ],\n",
       "       [806.55927],\n",
       "       [811.2905 ],\n",
       "       [818.06903],\n",
       "       [824.9381 ],\n",
       "       [828.01447],\n",
       "       [822.83417],\n",
       "       [811.82227],\n",
       "       [      nan],\n",
       "       [      nan]], dtype=float32)"
      ]
     },
     "execution_count": 234,
     "metadata": {},
     "output_type": "execute_result"
    }
   ],
   "source": [
    "predicted_stock_price"
   ]
  },
  {
   "cell_type": "code",
   "execution_count": 235,
   "metadata": {},
   "outputs": [
    {
     "data": {
      "image/png": "[encoded data removed]",
      "text/plain": [
       "<Figure size 432x288 with 1 Axes>"
      ]
     },
     "metadata": {
      "needs_background": "light"
     },
     "output_type": "display_data"
    }
   ],
   "source": [
    "plt.plot(real_stock_price, color = 'red', label = 'Real Google Stock Price')\n",
    "plt.plot(predicted_stock_price, color = 'blue', label= \"Predicted google stock price\")\n",
    "plt.title('google stock price prediction')\n",
    "plt.xlabel('Time')\n",
    "plt.ylabel('Google Stock Price')\n",
    "plt.legend()\n",
    "plt.show()"
   ]
  },
  {
   "cell_type": "code",
   "execution_count": 236,
   "metadata": {},
   "outputs": [
    {
     "data": {
      "image/png": "[encoded data removed]",
      "text/plain": [
       "<Figure size 432x288 with 1 Axes>"
      ]
     },
     "metadata": {
      "needs_background": "light"
     },
     "output_type": "display_data"
    }
   ],
   "source": [
    "plt.plot(real_stock_price, color = 'red', label = 'Real Google Stock Price')\n",
    "plt.plot(predicted_stock_price, color = 'blue', label= \"Predicted google stock price\")\n",
    "plt.title('google stock price prediction')\n",
    "plt.xlabel('Time')\n",
    "plt.ylabel('Google Stock Price')\n",
    "plt.legend()\n",
    "plt.show()"
   ]
  },
  {
   "cell_type": "code",
   "execution_count": 237,
   "metadata": {},
   "outputs": [
    {
     "data": {
      "text/plain": [
       "array([[789.92413],\n",
       "       [786.98145],\n",
       "       [787.37585],\n",
       "       [788.9212 ],\n",
       "       [792.2718 ],\n",
       "       [797.9916 ],\n",
       "       [802.86456],\n",
       "       [804.2943 ],\n",
       "       [804.0932 ],\n",
       "       [803.7974 ],\n",
       "       [803.9245 ],\n",
       "       [804.21857],\n",
       "       [804.5512 ],\n",
       "       [805.4532 ],\n",
       "       [806.55927],\n",
       "       [811.2905 ],\n",
       "       [818.06903],\n",
       "       [824.9381 ],\n",
       "       [828.01447],\n",
       "       [822.83417],\n",
       "       [811.82227],\n",
       "       [      nan],\n",
       "       [      nan]], dtype=float32)"
      ]
     },
     "execution_count": 237,
     "metadata": {},
     "output_type": "execute_result"
    }
   ],
   "source": [
    "predicted_stock_price"
   ]
  },
  {
   "cell_type": "code",
   "execution_count": null,
   "metadata": {},
   "outputs": [],
   "source": []
  },
  {
   "cell_type": "code",
   "execution_count": null,
   "metadata": {},
   "outputs": [],
   "source": []
  }
 ],
 "metadata": {
  "kernelspec": {
   "display_name": "Python 3",
   "language": "python",
   "name": "python3"
  },
  "language_info": {
   "codemirror_mode": {
    "name": "ipython",
    "version": 3
   },
   "file_extension": ".py",
   "mimetype": "text/x-python",
   "name": "python",
   "nbconvert_exporter": "python",
   "pygments_lexer": "ipython3",
   "version": "3.6.10"
  }
 },
 "nbformat": 4,
 "nbformat_minor": 4
}
